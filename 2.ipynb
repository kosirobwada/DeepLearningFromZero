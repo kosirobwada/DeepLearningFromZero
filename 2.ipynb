{
  "nbformat": 4,
  "nbformat_minor": 0,
  "metadata": {
    "colab": {
      "provenance": [],
      "authorship_tag": "ABX9TyNiPW5opcIzDJrsjjOIZaml",
      "include_colab_link": true
    },
    "kernelspec": {
      "name": "python3",
      "display_name": "Python 3"
    },
    "language_info": {
      "name": "python"
    }
  },
  "cells": [
    {
      "cell_type": "markdown",
      "metadata": {
        "id": "view-in-github",
        "colab_type": "text"
      },
      "source": [
        "<a href=\"https://colab.research.google.com/github/kosirobwada/DeepLearningFromZero2/blob/main/2.ipynb\" target=\"_parent\"><img src=\"https://colab.research.google.com/assets/colab-badge.svg\" alt=\"Open In Colab\"/></a>"
      ]
    },
    {
      "cell_type": "markdown",
      "source": [
        "## 第2章自然言語処理と単語の分散表現"
      ],
      "metadata": {
        "id": "AQe5QNI5iQry"
      }
    },
    {
      "cell_type": "markdown",
      "source": [
        "# シソーラス\n",
        "・類語辞書であり、同じ意味の単語や、意味の似た単語が同じグループに分類される。\n",
        "\n",
        "・人の作業コストが高く、単語の細かなニュアンスを表現できない。"
      ],
      "metadata": {
        "id": "EuHD2HdsbpiB"
      }
    },
    {
      "cell_type": "markdown",
      "source": [
        "# コーパス\n",
        "\n",
        "・大量のテキストデータ。\n",
        "\n",
        "・自然言語処理の研究のために目的をもって収集されたデータ。"
      ],
      "metadata": {
        "id": "iPC1wAHZcP1-"
      }
    },
    {
      "cell_type": "code",
      "source": [
        "text = 'You say goodbye and Isay hello.'"
      ],
      "metadata": {
        "id": "KO4qopS_dEV0"
      },
      "execution_count": null,
      "outputs": []
    },
    {
      "cell_type": "code",
      "source": [
        "text = text.lower()\n",
        "print(text)"
      ],
      "metadata": {
        "colab": {
          "base_uri": "https://localhost:8080/"
        },
        "id": "vNRrr2K1dQkM",
        "outputId": "4857de7a-2589-4077-a48b-e7cea5b201d4"
      },
      "execution_count": null,
      "outputs": [
        {
          "output_type": "stream",
          "name": "stdout",
          "text": [
            "you say goodbye and isay hello.\n"
          ]
        }
      ]
    },
    {
      "cell_type": "code",
      "source": [
        "text = text.replace('.',' .')\n",
        "print(text)"
      ],
      "metadata": {
        "colab": {
          "base_uri": "https://localhost:8080/"
        },
        "id": "xVqZnhwUdW-k",
        "outputId": "cf88d31c-e142-429c-83b3-e1060f20613f"
      },
      "execution_count": null,
      "outputs": [
        {
          "output_type": "stream",
          "name": "stdout",
          "text": [
            "you say goodbye and isay hello  .\n"
          ]
        }
      ]
    },
    {
      "cell_type": "code",
      "source": [
        "words = text.split(' ')\n",
        "print(words)"
      ],
      "metadata": {
        "colab": {
          "base_uri": "https://localhost:8080/"
        },
        "id": "R-psKH0wdhmg",
        "outputId": "bed223e8-5f31-48e7-f0b0-4e04f494124d"
      },
      "execution_count": null,
      "outputs": [
        {
          "output_type": "stream",
          "name": "stdout",
          "text": [
            "['you', 'say', 'goodbye', 'and', 'isay', 'hello', '', '.']\n"
          ]
        }
      ]
    },
    {
      "cell_type": "code",
      "source": [
        "word_to_id = {}\n",
        "id_to_word = {}\n",
        "\n",
        "for word in words:\n",
        "  if word not in word_to_id:\n",
        "    new_id = len(word_to_id)\n",
        "    word_to_id[word] = new_id\n",
        "    id_to_word[new_id] = word"
      ],
      "metadata": {
        "id": "9D0lqV4sdzag"
      },
      "execution_count": null,
      "outputs": []
    },
    {
      "cell_type": "code",
      "source": [
        "print(id_to_word)\n",
        "print(word_to_id)"
      ],
      "metadata": {
        "colab": {
          "base_uri": "https://localhost:8080/"
        },
        "id": "WTH9QAI_eIGP",
        "outputId": "dcdea695-9145-4b7f-94f2-d35a71cbbd9a"
      },
      "execution_count": null,
      "outputs": [
        {
          "output_type": "stream",
          "name": "stdout",
          "text": [
            "{0: 'you', 1: 'say', 2: 'goodbye', 3: 'and', 4: 'isay', 5: 'hello', 6: '', 7: '.'}\n",
            "{'you': 0, 'say': 1, 'goodbye': 2, 'and': 3, 'isay': 4, 'hello': 5, '': 6, '.': 7}\n"
          ]
        }
      ]
    },
    {
      "cell_type": "code",
      "source": [
        "print(id_to_word[1])\n",
        "print(word_to_id['hello'])"
      ],
      "metadata": {
        "colab": {
          "base_uri": "https://localhost:8080/"
        },
        "id": "EHdPK8UzekwD",
        "outputId": "fd6e49e3-f597-4680-f135-6cc9c0b03ec5"
      },
      "execution_count": null,
      "outputs": [
        {
          "output_type": "stream",
          "name": "stdout",
          "text": [
            "say\n",
            "5\n"
          ]
        }
      ]
    },
    {
      "cell_type": "code",
      "source": [
        "import numpy as np\n",
        "corpus = [word_to_id[w] for w in words]\n",
        "corpus = np.array(corpus)\n",
        "print(corpus)"
      ],
      "metadata": {
        "colab": {
          "base_uri": "https://localhost:8080/"
        },
        "id": "989jycToew6Y",
        "outputId": "79466546-52cd-4445-efa4-4bb6a48df0eb"
      },
      "execution_count": null,
      "outputs": [
        {
          "output_type": "stream",
          "name": "stdout",
          "text": [
            "[0 1 2 3 4 5 6 7]\n"
          ]
        }
      ]
    },
    {
      "cell_type": "code",
      "source": [
        "def preprocess(text):\n",
        "  text = text.lower()\n",
        "  text = text.replace('.',' .')\n",
        "  words = text.split(' ')\n",
        "\n",
        "  word_to_id = {}\n",
        "  id_to_word = {}\n",
        "\n",
        "  for word in words:\n",
        "    if word not in word_to_id:\n",
        "      new_id = len(word_to_id)\n",
        "      word_to_id[word] = new_id\n",
        "      id_to_word[new_id] = word\n",
        "\n",
        "  corpus = np.array([word_to_id[w] for w in words])\n",
        "\n",
        "  return corpus, word_to_id, id_to_word"
      ],
      "metadata": {
        "id": "iK-rmfUofI4c"
      },
      "execution_count": null,
      "outputs": []
    },
    {
      "cell_type": "code",
      "source": [
        "text = 'I am hungry and I want to eat chocolate'\n",
        "corpus, word_to_id, id_to_word = preprocess(text)\n",
        "print(corpus)\n",
        "print(word_to_id)\n",
        "print(id_to_word)"
      ],
      "metadata": {
        "colab": {
          "base_uri": "https://localhost:8080/"
        },
        "id": "tY1tzNKef11a",
        "outputId": "046f143f-bd48-4864-9e66-736dd72558a1"
      },
      "execution_count": null,
      "outputs": [
        {
          "output_type": "stream",
          "name": "stdout",
          "text": [
            "[0 1 2 3 0 4 5 6 7]\n",
            "{'i': 0, 'am': 1, 'hungry': 2, 'and': 3, 'want': 4, 'to': 5, 'eat': 6, 'chocolate': 7}\n",
            "{0: 'i', 1: 'am', 2: 'hungry', 3: 'and', 4: 'want', 5: 'to', 6: 'eat', 7: 'chocolate'}\n"
          ]
        }
      ]
    },
    {
      "cell_type": "markdown",
      "source": [
        "# 分布仮説\n",
        "\n",
        "・単語の意味は、周囲の単語によって形成されるという仮説。\n",
        "\n",
        "# コンテクスト\n",
        "\n",
        "・ある中央の単語に対して、その周辺にある単語。\n",
        "\n",
        "# カウントベースの手法\n",
        "\n",
        "・分布仮説に基づいて、単語をベクトルで表す方法。\n",
        "\n",
        "・ある単語に着目した場合、その周辺にどのような単語が現れるかをカウントし、集計したもの。"
      ],
      "metadata": {
        "id": "--Krw4zkhXmZ"
      }
    },
    {
      "cell_type": "code",
      "source": [
        "text = 'My birthday is October third. Please give me a present.'\n",
        "\n",
        "corpus, word_to_id, id_to_word = preprocess(text)\n",
        "\n",
        "print(corpus)\n",
        "print(id_to_word)\n",
        "print(word_to_id)"
      ],
      "metadata": {
        "colab": {
          "base_uri": "https://localhost:8080/"
        },
        "id": "cIKCwcjFidLk",
        "outputId": "d3c7c890-878c-4786-fbbe-b9229ed5b75c"
      },
      "execution_count": null,
      "outputs": [
        {
          "output_type": "stream",
          "name": "stdout",
          "text": [
            "[ 0  1  2  3  4  5  6  7  8  9 10  5]\n",
            "{0: 'my', 1: 'birthday', 2: 'is', 3: 'october', 4: 'third', 5: '.', 6: 'please', 7: 'give', 8: 'me', 9: 'a', 10: 'present'}\n",
            "{'my': 0, 'birthday': 1, 'is': 2, 'october': 3, 'third': 4, '.': 5, 'please': 6, 'give': 7, 'me': 8, 'a': 9, 'present': 10}\n"
          ]
        }
      ]
    },
    {
      "cell_type": "code",
      "source": [
        "C = np.array([\n",
        "    [0,1,0,0,0,0,0],\n",
        "    [1,0,1,0,1,1,0],\n",
        "    [0,1,0,1,0,0,0],\n",
        "    [0,0,1,0,1,0,0],\n",
        "    [0,1,0,1,0,0,0],\n",
        "    [0,1,0,0,0,0,1],\n",
        "    [0,0,0,0,0,1,0],\n",
        "],dtype=np.int32)"
      ],
      "metadata": {
        "id": "FoilyED7jvaa"
      },
      "execution_count": null,
      "outputs": []
    },
    {
      "cell_type": "code",
      "source": [
        "print(C[0])\n",
        "print(C[4])\n",
        "\n",
        "print(C[word_to_id['my']])"
      ],
      "metadata": {
        "colab": {
          "base_uri": "https://localhost:8080/"
        },
        "id": "Pcy91Cu2kwGz",
        "outputId": "9cd61659-3cfd-433a-8f77-d217b70537a6"
      },
      "execution_count": null,
      "outputs": [
        {
          "output_type": "stream",
          "name": "stdout",
          "text": [
            "[0 1 0 0 0 0 0]\n",
            "[0 1 0 1 0 0 0]\n",
            "[0 1 0 0 0 0 0]\n"
          ]
        }
      ]
    },
    {
      "cell_type": "code",
      "source": [
        "def create_co_matrix(corpus, vocab_size, window_size=1):\n",
        "  corpus_size = len(corpus)\n",
        "  co_matrix = np.zeros((vocab_size, vocab_size),dtype=np.int32)\n",
        "\n",
        "  for idx, word_id, in enumerate(corpus):\n",
        "    for i in range(1, window_size + 1):\n",
        "      left_idx = idx - i\n",
        "      right_idx = idx + i\n",
        "\n",
        "      if left_idx >= 0:\n",
        "        left_word_id = corpus[left_idx]\n",
        "        co_matrix[word_id, left_word_id] += 1\n",
        "\n",
        "      if right_idx < corpus_size:\n",
        "        right_word_id = corpus[right_idx]\n",
        "        co_matrix[word_id, right_word_id] += 1\n",
        "  return co_matrix"
      ],
      "metadata": {
        "id": "XPr71O16leLi"
      },
      "execution_count": null,
      "outputs": []
    },
    {
      "cell_type": "markdown",
      "source": [
        "# ベクトルの類似度\n",
        "\n",
        "・ベクトルの内積、ユークリッド距離、cos類似度\n",
        "\n",
        "![image.png](data:image/png;base64,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)"
      ],
      "metadata": {
        "id": "0aZ0KjkWmh2X"
      }
    },
    {
      "cell_type": "code",
      "source": [
        "# epsは0除算が発生しないために足している。\n",
        "def cos_similarity(x,y,eps=1e-8):\n",
        "  nx = x / np.sqrt(np.sum(x**2)+eps)\n",
        "  ny = y / np.sqrt(np.sum(y**2)+eps)\n",
        "\n",
        "  return np.dot(nx,ny)"
      ],
      "metadata": {
        "id": "AvnXuqPZoJZ2"
      },
      "execution_count": null,
      "outputs": []
    },
    {
      "cell_type": "code",
      "source": [
        "text = 'Sit down please. It is a dinner time now.'\n",
        "corpus, word_to_id, id_to_word = preprocess(text)\n",
        "vocab_size = len(word_to_id)\n",
        "C = create_co_matrix(corpus, vocab_size)\n",
        "\n",
        "c0 = C[word_to_id['it']]\n",
        "c1 = C[word_to_id['please']]\n",
        "\n",
        "#単語の類似度を計算\n",
        "print(cos_similarity(c0,c1))"
      ],
      "metadata": {
        "colab": {
          "base_uri": "https://localhost:8080/"
        },
        "id": "eopMONvipH4K",
        "outputId": "e682d22d-d108-4317-b401-9f28d2269ec6"
      },
      "execution_count": null,
      "outputs": [
        {
          "output_type": "stream",
          "name": "stdout",
          "text": [
            "0.49999999749999996\n"
          ]
        }
      ]
    },
    {
      "cell_type": "markdown",
      "source": [
        "# 単語の類似度ランキングの作成\n",
        "\n",
        "|引数名|説明|\n",
        "|----|----|\n",
        "|query|クエリ（単語）|\n",
        "|word_to_id|単語から単語IDへの辞書|\n",
        "|id_to_word|単語IDから単語への辞書|\n",
        "|word_matrix|単語ベクトルをまとめた行列。各行に対する単語のベクトルが格納されている|\n",
        "|top|上位何位まで表示するか|"
      ],
      "metadata": {
        "id": "j4aJvtXQrh0n"
      }
    },
    {
      "cell_type": "code",
      "source": [
        "def most_similarity(query, word_to_id, id_to_word, word_matrix, top=5):\n",
        "  if query not in word_to_id:\n",
        "    print('%s is not found' % query)\n",
        "    return\n",
        "\n",
        "  print('\\n{query}' + query)\n",
        "  query_id = word_to_id[query]\n",
        "  query_vec = word_matrix[query_id]\n",
        "\n",
        "  vocab_size = len(id_to_word)\n",
        "  similarity = np.zeros(vocab_size)\n",
        "  for i in range(vocab_size):\n",
        "    similarity[i] = cos_similarity(word_matrix[i], query_vec)\n",
        "\n",
        "  count = 0\n",
        "  for i in (-1*similarity).argsort():\n",
        "    if id_to_word[i] == query:\n",
        "      continue\n",
        "    print(' %s: %s' % (id_to_word[i], similarity[i]))\n",
        "\n",
        "    count += 1\n",
        "    if count >= top:\n",
        "      return"
      ],
      "metadata": {
        "id": "5j2rRXkbsYET"
      },
      "execution_count": null,
      "outputs": []
    },
    {
      "cell_type": "code",
      "source": [
        "text = 'I am from Japan. You are from India. She is from Kyoto. He love soccer.'\n",
        "corpus, word_to_id, id_to_word = preprocess(text)\n",
        "vocab_size = len(word_to_id)\n",
        "C = create_co_matrix(corpus, vocab_size)\n",
        "\n",
        "most_similarity('you', word_to_id, id_to_word, C, top=5)"
      ],
      "metadata": {
        "colab": {
          "base_uri": "https://localhost:8080/"
        },
        "id": "x5aGVMnNtyKm",
        "outputId": "968e8801-03c7-48b3-852b-fc92e7a2691e"
      },
      "execution_count": null,
      "outputs": [
        {
          "output_type": "stream",
          "name": "stdout",
          "text": [
            "\n",
            "{query}you\n",
            " japan: 0.49999999749999996\n",
            " india: 0.49999999749999996\n",
            " she: 0.49999999749999996\n",
            " kyoto: 0.49999999749999996\n",
            " he: 0.49999999749999996\n"
          ]
        }
      ]
    },
    {
      "cell_type": "markdown",
      "source": [
        "# PMI\n",
        "\n",
        "相互情報量（Pointwise Mutual Information）\n",
        "\n",
        "![image.png](data:image/png;base64,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)"
      ],
      "metadata": {
        "id": "iRHdrQqkwe57"
      }
    },
    {
      "cell_type": "code",
      "source": [
        "def ppmi(C, verbose=False, eps=1e-8):\n",
        "  M = np.zeros_like(C, dtype=np.float32)\n",
        "  N = np.sum(C)\n",
        "  S = np.sum(C,axis=0)\n",
        "\n",
        "  total = C.shape[0] * C.shape[1]\n",
        "  cnt = 0\n",
        "\n",
        "  for i in range(C.shape[0]):\n",
        "    for j in range(C.shape[1]):\n",
        "      pmi = np.log2(C[i,j] * N/(S[j]*S[i])+eps)\n",
        "      M[i,j] = max(0,pmi)\n",
        "\n",
        "      if verbose:\n",
        "        cnt += 1\n",
        "        if cnt % (total//100) == 0:\n",
        "          print('%.1f%% done' % (100*cnt/total))\n",
        "  return M"
      ],
      "metadata": {
        "id": "7ECBN0VuweT2"
      },
      "execution_count": null,
      "outputs": []
    },
    {
      "cell_type": "code",
      "source": [
        "text = 'You say goodbye and I say hello.'\n",
        "corpus, word_to_id, id_to_word = preprocess(text)\n",
        "vocab_size = len(word_to_id)\n",
        "\n",
        "C = create_co_matrix(corpus, vocab_size)\n",
        "W = ppmi(C)\n",
        "\n",
        "np.set_printoptions(precision=3)\n",
        "print('covariance matrix')\n",
        "print(C)\n",
        "print('-'*50)\n",
        "print('PPMI')\n",
        "print(W)"
      ],
      "metadata": {
        "colab": {
          "base_uri": "https://localhost:8080/"
        },
        "id": "Yq0MFS2QzWeN",
        "outputId": "6e68ea80-04b6-44eb-b591-5a7785bc4d5c"
      },
      "execution_count": null,
      "outputs": [
        {
          "output_type": "stream",
          "name": "stdout",
          "text": [
            "covariance matrix\n",
            "[[0 1 0 0 0 0 0]\n",
            " [1 0 1 0 1 1 0]\n",
            " [0 1 0 1 0 0 0]\n",
            " [0 0 1 0 1 0 0]\n",
            " [0 1 0 1 0 0 0]\n",
            " [0 1 0 0 0 0 1]\n",
            " [0 0 0 0 0 1 0]]\n",
            "--------------------------------------------------\n",
            "PPMI\n",
            "[[0.    1.807 0.    0.    0.    0.    0.   ]\n",
            " [1.807 0.    0.807 0.    0.807 0.807 0.   ]\n",
            " [0.    0.807 0.    1.807 0.    0.    0.   ]\n",
            " [0.    0.    1.807 0.    1.807 0.    0.   ]\n",
            " [0.    0.807 0.    1.807 0.    0.    0.   ]\n",
            " [0.    0.807 0.    0.    0.    0.    2.807]\n",
            " [0.    0.    0.    0.    0.    2.807 0.   ]]\n"
          ]
        }
      ]
    },
    {
      "cell_type": "markdown",
      "source": [
        "# 次元削減\n",
        "\n",
        "・重要な情報を残したまま削減。\n",
        "\n",
        "# 特異値分解（Singular Value Decomposition）\n",
        "\n",
        "・任意の行列を3つの行列の積へと分解。\n",
        "\n"
      ],
      "metadata": {
        "id": "v3Bna0sp14Hc"
      }
    },
    {
      "cell_type": "code",
      "source": [
        "text = 'You say goodbye and I say hello.'\n",
        "corpus, word_to_id, id_to_word = preprocess(text)\n",
        "vocab_size = len(id_to_word)\n",
        "C = create_co_matrix(corpus, vocab_size, window_size=1)\n",
        "W = ppmi(C)\n",
        "\n",
        "U, S, V = np.linalg.svd(W)\n",
        "\n",
        "print(C[0])\n",
        "print(W[0])\n",
        "print(U[0])"
      ],
      "metadata": {
        "colab": {
          "base_uri": "https://localhost:8080/"
        },
        "id": "rz6hJIqk3Oai",
        "outputId": "76b19c14-08a3-47bd-b454-0a1f1ef3584d"
      },
      "execution_count": null,
      "outputs": [
        {
          "output_type": "stream",
          "name": "stdout",
          "text": [
            "[0 1 0 0 0 0 0]\n",
            "[0.    1.807 0.    0.    0.    0.    0.   ]\n",
            "[ 3.409e-01 -1.110e-16 -1.205e-01 -4.163e-16 -9.323e-01 -1.110e-16\n",
            " -2.426e-17]\n"
          ]
        }
      ]
    },
    {
      "cell_type": "code",
      "source": [
        "import matplotlib.pyplot as plt\n",
        "for word, word_id, in word_to_id.items():\n",
        "  plt.annotate(word, (U[word_id, 0],U[word_id, 1]))\n",
        "\n",
        "plt.scatter(U[:,0],U[:,1],alpha=0.5)\n",
        "plt.show()"
      ],
      "metadata": {
        "colab": {
          "base_uri": "https://localhost:8080/",
          "height": 430
        },
        "id": "j-C-ZXn55wb8",
        "outputId": "ed380db9-6b52-4294-e601-ce98d4437ae7"
      },
      "execution_count": null,
      "outputs": [
        {
          "output_type": "display_data",
          "data": {
            "text/plain": [
              "<Figure size 640x480 with 1 Axes>"
            ],
            "image/png": "[encoded data removed]"
          },
          "metadata": {}
        }
      ]
    },
    {
      "cell_type": "markdown",
      "source": [
        "# カウントベースの手法まとめ\n",
        "\n",
        "・周囲の単語の頻度によって単語を表現。\n",
        "\n",
        "・単語の共起行列を作り、その行列に対してSVDを実行。\n",
        "\n",
        "・密なベクトル（単語の分散表現）を獲得。"
      ],
      "metadata": {
        "id": "Zxgt20-vJqoe"
      }
    }
  ]
}