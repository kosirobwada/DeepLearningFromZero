{
  "nbformat": 4,
  "nbformat_minor": 0,
  "metadata": {
    "colab": {
      "provenance": [],
      "authorship_tag": "ABX9TyNjWzdlyIiJi1l2TOcr+ipa",
      "include_colab_link": true
    },
    "kernelspec": {
      "name": "python3",
      "display_name": "Python 3"
    },
    "language_info": {
      "name": "python"
    }
  },
  "cells": [
    {
      "cell_type": "markdown",
      "metadata": {
        "id": "view-in-github",
        "colab_type": "text"
      },
      "source": [
        "<a href=\"https://colab.research.google.com/github/kosirobwada/DeepLearningFromZero2/blob/main/3.ipynb\" target=\"_parent\"><img src=\"https://colab.research.google.com/assets/colab-badge.svg\" alt=\"Open In Colab\"/></a>"
      ]
    },
    {
      "cell_type": "markdown",
      "source": [
        "# 第3章　word2vec\n"
      ],
      "metadata": {
        "id": "29O4i2lEI1k9"
      }
    },
    {
      "cell_type": "markdown",
      "source": [
        "# カウントベースの手法の問題点\n",
        "\n",
        "・現実的には、コーパスで扱う語彙数は非常に巨大になる。\n",
        "\n",
        "・すると、巨大な行列を作らなければならず、SVDを行うのが現実的でない。SVDは、O(N^3)"
      ],
      "metadata": {
        "id": "jSYD5fZ3LNI2"
      }
    },
    {
      "cell_type": "markdown",
      "source": [
        "# 推論ベースの手法\n",
        "\n",
        "・ニューラルネットワークを用いる場合は、ミニバッチ学習をする。\n",
        "\n",
        "・ミニバッチ学習をするとは、一度に少量のミニバッチの学習サンプルを見ながら重み更新を繰り返す。\n",
        "\n",
        "・推論ベースの手法では、学習データの一部を使って逐次的に計算する。\n",
        "\n",
        "・これにより、計算量が膨大で処理が難しい場合でも、ニューラルネットワークでは処理を小分けにして実行できる。"
      ],
      "metadata": {
        "id": "7VfmlTSrNGm7"
      }
    },
    {
      "cell_type": "markdown",
      "source": [
        "# one-hot 表現\n",
        "\n",
        "・one-hot表現とは、ベクトルの要素の中でひとつだけが1で残りが0のベクトル。"
      ],
      "metadata": {
        "id": "PDwanmXEOeYx"
      }
    },
    {
      "cell_type": "code",
      "source": [
        "import numpy as np\n",
        "\n",
        "c = np.array([[1,0,0,0,0,0,0]])\n",
        "W = np.random.randn(7,3)\n",
        "h = np.dot(c,W)\n",
        "print(h)"
      ],
      "metadata": {
        "colab": {
          "base_uri": "https://localhost:8080/"
        },
        "id": "iKf54is8PDYU",
        "outputId": "f512528c-11ca-4764-cd23-446cb4af9ed7"
      },
      "execution_count": 1,
      "outputs": [
        {
          "output_type": "stream",
          "name": "stdout",
          "text": [
            "[[-0.18300872  1.52038272  0.96223897]]\n"
          ]
        }
      ]
    },
    {
      "cell_type": "code",
      "source": [
        "class MatMul:\n",
        "  def __init__(self,W):\n",
        "    self.params = [W]\n",
        "    self.grads = [np.zeros_like(W)]\n",
        "    self.x = None\n",
        "\n",
        "  def forward(self, x):\n",
        "    W, = self.params\n",
        "    out = np.dot(x, W)\n",
        "    self.x = x\n",
        "    return out\n",
        "\n",
        "  def backward(self, dout):\n",
        "    W, = self.params\n",
        "    dx = np.dot(dout, W.T)\n",
        "    dW = np.dot(self.x.T, dout)\n",
        "    self.grads[0][...] = dW\n",
        "    return dx\n",
        "\n",
        "c = np.array([[1,0,0,0,0,0,0]])\n",
        "W = np.random.randn(7,3)\n",
        "layer = MatMul(W)\n",
        "h = layer.forward(c)\n",
        "print(h)"
      ],
      "metadata": {
        "colab": {
          "base_uri": "https://localhost:8080/"
        },
        "id": "2gOglITvPtuT",
        "outputId": "921c8138-0e9d-468d-a74d-836da18c5757"
      },
      "execution_count": 5,
      "outputs": [
        {
          "output_type": "stream",
          "name": "stdout",
          "text": [
            "[[-1.14192312  0.65870819  1.16475768]]\n"
          ]
        }
      ]
    },
    {
      "cell_type": "markdown",
      "source": [
        "# CBOW(Continuous Bag-Of-Words)\n",
        "\n",
        "・CBOWモデルは、コンテクストから、ターゲットを推測することを目的としたニューラルネットワークのモデル。\n",
        "\n",
        "・ターゲットは、中央の単語、その周辺の単語がコンテクスト\n",
        "\n",
        "・CBOWモデルをできるだけ正確な推測ができるように訓練することで、私たちは単語の分散表現を獲得することができる。\n",
        "\n",
        "・CBOWモデルへの入力は、単語のリスト。それをone-hot表現に変換することで、CBOWモデルが処理できるように調整する。\n",
        "\n",
        "・入力層としてN個の単語を扱うのであれば、N個の入力層が存在。"
      ],
      "metadata": {
        "id": "LejqsWgYRZas"
      }
    },
    {
      "cell_type": "code",
      "source": [
        "c0 = np.array([[1,0,0,0,0,0,0]])\n",
        "c1 = np.array([[0,0,1,0,0,0,0]])\n",
        "\n",
        "W_in = np.random.randn(7,3)\n",
        "W_out = np.random.randn(3,7)\n",
        "\n",
        "in_layer0 = MatMul(W_in)\n",
        "in_layer1 = MatMul(W_in)\n",
        "out_layer = MatMul(W_out)\n",
        "\n",
        "h0 = in_layer0.forward(c0)\n",
        "h1 = in_layer1.forward(c1)\n",
        "h = 0.5 * (h0 + h1)\n",
        "s = out_layer.forward(h)\n",
        "\n",
        "print(s)"
      ],
      "metadata": {
        "colab": {
          "base_uri": "https://localhost:8080/"
        },
        "id": "ykoPqSDzTtlo",
        "outputId": "b604967a-006d-4f32-a590-9499f40cbf91"
      },
      "execution_count": 7,
      "outputs": [
        {
          "output_type": "stream",
          "name": "stdout",
          "text": [
            "[[-0.64544172 -0.08348532  0.16479746 -2.22382516  0.25740015  0.82392375\n",
            "   0.73392399]]\n"
          ]
        }
      ]
    },
    {
      "cell_type": "markdown",
      "source": [
        "# CBOWモデルの学習\n",
        "\n",
        "・これまで見てきたCBOWモデルは、出力層ごとに各単語のスコアを出力してきた。\n",
        "\n",
        "・このスコアに対して、Softmax関数を適用することで、確率を得ることができる。\n",
        "\n",
        "・この確率は、コンテクストが与えられたときに、その中央にどの単語が出現するのかを表す。"
      ],
      "metadata": {
        "id": "6O6cprjFUjpj"
      }
    }
  ]
}